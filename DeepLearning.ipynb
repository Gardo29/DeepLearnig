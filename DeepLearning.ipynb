{
  "nbformat": 4,
  "nbformat_minor": 0,
  "metadata": {
    "colab": {
      "name": "DeepLearning.ipynb",
      "provenance": [],
      "collapsed_sections": [],
      "include_colab_link": true
    },
    "kernelspec": {
      "name": "python3",
      "display_name": "Python 3"
    },
    "language_info": {
      "name": "python"
    }
  },
  "cells": [
    {
      "cell_type": "markdown",
      "metadata": {
        "id": "view-in-github",
        "colab_type": "text"
      },
      "source": [
        "<a href=\"https://colab.research.google.com/github/Gardo29/DeepLearnig/blob/main/DeepLearning.ipynb\" target=\"_parent\"><img src=\"https://colab.research.google.com/assets/colab-badge.svg\" alt=\"Open In Colab\"/></a>"
      ]
    },
    {
      "cell_type": "markdown",
      "source": [
        "# Authors\n",
        "The authors of this code, this notebook and its documentation are [Lorenzo Gardini](mailto: lorenzo.gardini7@studio.unibo.it) and [Vlad Mattiussi](mailto: vlad.mattiussi@studio.unibo.it)."
      ],
      "metadata": {
        "id": "iiOXJHJFcQVq"
      }
    },
    {
      "cell_type": "markdown",
      "source": [
        "prendi spunto da https://colab.research.google.com/drive/1f9BxFxPxhPKUba8Ifcq4juv042ZA484-"
      ],
      "metadata": {
        "id": "Wv58xcBkih2P"
      }
    },
    {
      "cell_type": "code",
      "source": [
        "%autosave 60"
      ],
      "metadata": {
        "colab": {
          "base_uri": "https://localhost:8080/",
          "height": 34
        },
        "id": "DAC5ZN67Zdw9",
        "outputId": "e8603bbc-92be-4c54-82b2-dcd2aed10db1"
      },
      "execution_count": null,
      "outputs": [
        {
          "output_type": "display_data",
          "data": {
            "application/javascript": [
              "IPython.notebook.set_autosave_interval(60000)"
            ]
          },
          "metadata": {}
        },
        {
          "output_type": "stream",
          "name": "stdout",
          "text": [
            "Autosaving every 60 seconds\n"
          ]
        }
      ]
    },
    {
      "cell_type": "markdown",
      "source": [
        "# **Useful modules import**\n",
        "First of all, it is necessary to import useful modules used during the tutorial."
      ],
      "metadata": {
        "id": "skbwoNDholX7"
      }
    },
    {
      "cell_type": "code",
      "execution_count": 3,
      "metadata": {
        "id": "09WsbkO7cOMr"
      },
      "outputs": [],
      "source": [
        "import pandas as pd\n",
        "from sklearn.model_selection import train_test_split\n",
        "import os\n",
        "import numpy as np\n",
        "import matplotlib.pyplot as plt\n",
        "import gym\n",
        "import random\n",
        "import time\n",
        "import statistics\n",
        "import cv2\n",
        "import uuid\n",
        "from IPython.display import HTML\n",
        "from base64 import b64encode\n",
        "from IPython.display import clear_output\n",
        "from tensorflow import keras\n",
        "from tensorflow.keras import layers\n",
        "from skimage import transform\n",
        "from skimage.color import rgb2gray\n",
        "from collections import deque"
      ]
    },
    {
      "cell_type": "markdown",
      "source": [
        "# Utility functions"
      ],
      "metadata": {
        "id": "1Uw_xV2Hd6NN"
      }
    },
    {
      "cell_type": "code",
      "source": [
        "def train_validation_test_split(x,y, \n",
        "                                test_size = 0.25, \n",
        "                                validation_size = 0.25, \n",
        "                                random_state = None, \n",
        "                                shuffle = True):\n",
        "  temp_train_x, test_x, temp_train_y, test_y = train_test_split(x, y, \n",
        "                                                                test_size = test_size, \n",
        "                                                                random_state = random_state, \n",
        "                                                                shuffle = shuffle)\n",
        "  train_x, valid_x, train_y, valid_y = train_test_split(temp_train_x, temp_train_y, \n",
        "                                                        test_size = validation_size, \n",
        "                                                        random_state = random_state, \n",
        "                                                        shuffle = shuffle)\n",
        "  return train_x, valid_x, test_x, train_y, valid_y, test_y"
      ],
      "metadata": {
        "id": "PS7rWtCqjad_"
      },
      "execution_count": 4,
      "outputs": []
    },
    {
      "cell_type": "code",
      "source": [],
      "metadata": {
        "id": "d0jrmcusdkBs"
      },
      "execution_count": null,
      "outputs": []
    },
    {
      "cell_type": "code",
      "source": [],
      "metadata": {
        "id": "YTszgeiyaWHa"
      },
      "execution_count": null,
      "outputs": []
    }
  ]
}